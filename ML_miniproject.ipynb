{
  "nbformat": 4,
  "nbformat_minor": 0,
  "metadata": {
    "colab": {
      "provenance": []
    },
    "kernelspec": {
      "name": "python3",
      "display_name": "Python 3"
    },
    "language_info": {
      "name": "python"
    }
  },
  "cells": [
    {
      "cell_type": "markdown",
      "source": [
        "# **FLIGHT DELAY PREDICTION USING WEATHER API**"
      ],
      "metadata": {
        "id": "keeG9gYn2CLm"
      }
    },
    {
      "cell_type": "code",
      "source": [
        "import pandas as pd\n",
        "\n",
        "# Load the dataset\n",
        "data = pd.read_csv('fin.csv')\n",
        "\n",
        "# Encode categorical variables\n",
        "data = pd.get_dummies(data, columns=['weather_description', 'wind'])\n",
        "\n",
        "# Handle missing values if any (optional)\n",
        "data = data.dropna()\n",
        "\n",
        "# Check the first few rows of the preprocessed data\n",
        "print(data.head())\n"
      ],
      "metadata": {
        "id": "sts00x5TSN1r"
      },
      "execution_count": null,
      "outputs": []
    },
    {
      "cell_type": "code",
      "source": [
        "import pandas as pd\n",
        "\n",
        "# Load your dataset from a CSV file\n",
        "# Replace 'your_dataset.csv' with the actual file path\n",
        "data = pd.read_csv('fin.csv')\n",
        "# Calculate weather feature differences between departure and destination\n",
        "data['temp_difference'] = data.groupby('source_place')['temperature_at_source'].transform(lambda x: x.diff())\n",
        "data['humidity_difference'] = data.groupby('source_place')['humidity_at_source'].transform(lambda x: x.diff())\n",
        "data['wind_speed_difference'] = data.groupby('source_place')['wind_speed'].transform(lambda x: x.diff())\n",
        "\n",
        "# Encode wind direction as numerical values (e.g., N: 0, NW: 45, etc.)\n",
        "wind_direction_mapping = {'N': 0, 'NW': 45, 'W': 90, 'SW': 135, 'S': 180, 'SE': 225, 'E': 270, 'NE': 315}\n",
        "data['departure_wind_direction_deg'] = data['wind'].map(wind_direction_mapping)\n",
        "data['destination_wind_direction_deg'] = data['wind'].map(wind_direction_mapping)\n",
        "data['wind_direction_difference'] = data['departure_wind_direction_deg'] - data['destination_wind_direction_deg']\n",
        "\n",
        "# You can include additional features like year, month, and location differences\n",
        "\n",
        "# Print the updated DataFrame\n",
        "print(data)\n",
        "\n",
        "\n",
        "# You can include additional features like year, month, and location differences\n",
        "\n"
      ],
      "metadata": {
        "id": "a4PrJNghb5MX",
        "colab": {
          "base_uri": "https://localhost:8080/"
        },
        "outputId": "f43ac2dd-27a6-4d80-bb55-e882feb8ba29"
      },
      "execution_count": null,
      "outputs": [
        {
          "output_type": "stream",
          "name": "stdout",
          "text": [
            "      source_place weather_description  latitude_of_source  \\\n",
            "0          Chicago               Rainy             41.8781   \n",
            "1          Chicago               Sunny             41.8781   \n",
            "2      San Antonio               Sunny             29.4241   \n",
            "3      Los Angeles              Cloudy             34.0522   \n",
            "4          Houston       Partly cloudy             29.7604   \n",
            "...            ...                 ...                 ...   \n",
            "1045   Los Angeles       Partly cloudy             34.0522   \n",
            "1046      New York               Sunny             40.7128   \n",
            "1047      San Jose              Cloudy             37.3382   \n",
            "1048     San Diego               Snowy             32.7157   \n",
            "1049  Philadelphia       Partly cloudy             39.9526   \n",
            "\n",
            "      longitude_of_source  temperature_at_source  humidity_at_source wind  \\\n",
            "0                -87.6298                    1.3                13.5    N   \n",
            "1                -87.6298                   27.7                 7.1   NW   \n",
            "2                -98.4936                    8.2                 9.4   SW   \n",
            "3               -118.2437                   22.3                77.0    S   \n",
            "4                -95.3698                   31.0                22.2   SE   \n",
            "...                   ...                    ...                 ...  ...   \n",
            "1045            -118.2437                   34.7                38.6   SW   \n",
            "1046             -74.0060                    2.5                68.6   SE   \n",
            "1047            -121.8863                   10.8                88.3   SE   \n",
            "1048            -117.1611                   36.9                80.8   SW   \n",
            "1049             -75.1652                   23.7                34.5   SW   \n",
            "\n",
            "      wind_speed  month  year  day  flight_delay  temp_difference  \\\n",
            "0           26.2     11  2017   18             1              NaN   \n",
            "1           19.9      4  2011   29             1             26.4   \n",
            "2           22.7     11  2016   24             1              NaN   \n",
            "3           28.5      3  2011   29             1              NaN   \n",
            "4           25.8      8  2023   11             1              NaN   \n",
            "...          ...    ...   ...  ...           ...              ...   \n",
            "1045         0.9     12  2012    4             1             -4.2   \n",
            "1046        17.1      8  2020   10             0            -24.2   \n",
            "1047        16.7      5  2017   20             0             -9.9   \n",
            "1048        26.1      7  2014   30             1             15.7   \n",
            "1049         5.9      2  2023    5             1              7.5   \n",
            "\n",
            "      humidity_difference  wind_speed_difference  \\\n",
            "0                     NaN                    NaN   \n",
            "1                    -6.4                   -6.3   \n",
            "2                     NaN                    NaN   \n",
            "3                     NaN                    NaN   \n",
            "4                     NaN                    NaN   \n",
            "...                   ...                    ...   \n",
            "1045                -47.9                  -37.1   \n",
            "1046                 67.5                   17.1   \n",
            "1047                 16.9                  -22.3   \n",
            "1048                 28.5                  -11.3   \n",
            "1049                 34.4                   -6.5   \n",
            "\n",
            "      departure_wind_direction_deg  destination_wind_direction_deg  \\\n",
            "0                                0                               0   \n",
            "1                               45                              45   \n",
            "2                              135                             135   \n",
            "3                              180                             180   \n",
            "4                              225                             225   \n",
            "...                            ...                             ...   \n",
            "1045                           135                             135   \n",
            "1046                           225                             225   \n",
            "1047                           225                             225   \n",
            "1048                           135                             135   \n",
            "1049                           135                             135   \n",
            "\n",
            "      wind_direction_difference  \n",
            "0                             0  \n",
            "1                             0  \n",
            "2                             0  \n",
            "3                             0  \n",
            "4                             0  \n",
            "...                         ...  \n",
            "1045                          0  \n",
            "1046                          0  \n",
            "1047                          0  \n",
            "1048                          0  \n",
            "1049                          0  \n",
            "\n",
            "[1050 rows x 18 columns]\n"
          ]
        }
      ]
    },
    {
      "cell_type": "code",
      "source": [
        "import pandas as pd\n",
        "from sklearn.model_selection import train_test_split\n",
        "from sklearn.ensemble import RandomForestRegressor\n",
        "from sklearn.metrics import mean_absolute_error, mean_squared_error\n",
        "\n",
        "# Load your predefined dataset (historical data)\n",
        "# Replace 'your_dataset.csv' with the actual file path\n",
        "\n",
        "\n",
        "# Drop rows with missing values in both X and y\n",
        "data.dropna(subset=['temp_difference', 'humidity_difference', 'wind_speed_difference', 'wind_direction_difference', 'flight_delay'], inplace=True)\n",
        "\n",
        "# Define the features (X) and the target variable (y)\n",
        "X = data[['temp_difference', 'humidity_difference', 'wind_speed_difference', 'wind_direction_difference']]\n",
        "y = data['flight_delay']\n",
        "\n",
        "# Split the data into training and testing sets (e.g., 80% training, 20% testing)\n",
        "X_train, X_test, y_train, y_test = train_test_split(X, y, test_size=0.2, random_state=42)\n",
        "\n",
        "# Initialize and train a regression model (Random Forest in this example)\n",
        "model = RandomForestRegressor(n_estimators=100, random_state=42)\n",
        "model.fit(X_train, y_train)\n",
        "\n",
        "# Make predictions on the testing set\n",
        "y_pred = model.predict(X_test)\n",
        "\n",
        "# Evaluate the model\n",
        "mae = mean_absolute_error(y_test, y_pred)\n",
        "mse = mean_squared_error(y_test, y_pred)\n",
        "\n",
        "print(f\"Mean Absolute Error: {mae}\")\n",
        "print(f\"Mean Squared Error: {mse}\")\n"
      ],
      "metadata": {
        "colab": {
          "base_uri": "https://localhost:8080/"
        },
        "id": "9QKxU0zLveX1",
        "outputId": "58aa99a7-0f78-4054-d06f-017a82ff651b"
      },
      "execution_count": null,
      "outputs": [
        {
          "output_type": "stream",
          "name": "stdout",
          "text": [
            "Mean Absolute Error: 0.5000961538461538\n",
            "Mean Squared Error: 0.28683942307692306\n"
          ]
        }
      ]
    },
    {
      "cell_type": "code",
      "source": [
        "import joblib\n",
        "\n",
        "# Assuming 'model' is your trained model\n",
        "model = RandomForestRegressor(n_estimators=100, random_state=42)\n",
        "model.fit(X_train, y_train)\n",
        "\n",
        "# Save the model to a file\n",
        "joblib.dump(model, 'flight_delay_model.pkl')\n"
      ],
      "metadata": {
        "colab": {
          "base_uri": "https://localhost:8080/"
        },
        "id": "MhLhIM2Z3Zfy",
        "outputId": "d887f58b-17e2-4703-98af-1d173a28151e"
      },
      "execution_count": null,
      "outputs": [
        {
          "output_type": "execute_result",
          "data": {
            "text/plain": [
              "['flight_delay_model.pkl']"
            ]
          },
          "metadata": {},
          "execution_count": 27
        }
      ]
    },
    {
      "cell_type": "code",
      "source": [
        "import requests\n",
        "import joblib\n",
        "from datetime import datetime\n",
        "\n",
        "# OpenWeatherMap API key (replace with your actual API key)\n",
        "api_key = 'bea2d5f59fbe00679f07d0e83e50e498'\n",
        "\n",
        "# Location mapping from location code to location name\n",
        "location_mapping = {\n",
        "    'NYC': 'New York',\n",
        "    'LA': 'Los Angeles',\n",
        "    'CHI': 'Chicago',\n",
        "    'HOU': 'Houston',\n",
        "    'PHX': 'Phoenix',\n",
        "    'PHI': 'Philadelphia',\n",
        "    'SAT': 'San Antonio',\n",
        "    'SD': 'San Diego',\n",
        "    'DAL': 'Dallas',\n",
        "    'SJ': 'San Jose'\n",
        "}\n",
        "\n",
        "# Function to get location code from location name\n",
        "def get_location_code(location_name):\n",
        "    for code, name in location_mapping.items():\n",
        "        if name.lower() == location_name.lower():\n",
        "            return code\n",
        "    return None\n",
        "\n",
        "# Function to get weather data for a specific date and location using OpenWeatherMap API\n",
        "def get_weather_data(location_name, date):\n",
        "    base_url = 'https://api.openweathermap.org/data/2.5/forecast'\n",
        "    params = {\n",
        "        'q': location_name,\n",
        "        'appid': api_key,\n",
        "        'units': 'imperial',  # For Fahrenheit units\n",
        "    }\n",
        "\n",
        "    try:\n",
        "        response = requests.get(base_url, params=params)\n",
        "        response.raise_for_status()  # Raise an exception for HTTP errors\n",
        "        data = response.json()\n",
        "\n",
        "        # Find the weather data for the specific date (dd/mm/yyyy)\n",
        "        target_date = datetime.strptime(date, '%d/%m/%Y').date()\n",
        "\n",
        "        for forecast in data['list']:\n",
        "            forecast_date = datetime.fromtimestamp(forecast['dt']).date()\n",
        "            if forecast_date == target_date:\n",
        "                return forecast\n",
        "\n",
        "        return None  # Date not found in the data\n",
        "\n",
        "    except requests.exceptions.RequestException as e:\n",
        "        print(f\"Error fetching weather data: {e}\")\n",
        "        return None\n",
        "\n",
        "# Load the trained model from a saved file\n",
        "model = joblib.load('flight_delay_model.pkl')  # Replace with the actual model file path\n",
        "\n",
        "# Create a function to predict flight delay based on real-time weather data\n",
        "def predict_flight_delay(departure_name, destination_name, date):\n",
        "    # Get location codes from location names\n",
        "    departure_code = get_location_code(departure_name)\n",
        "    destination_code = get_location_code(destination_name)\n",
        "\n",
        "    # Fetch weather data for departure and destination on the specified date\n",
        "    departure_weather = get_weather_data(departure_name, date)\n",
        "    destination_weather = get_weather_data(destination_name, date)\n",
        "\n",
        "    if departure_weather and destination_weather:\n",
        "        # Calculate feature differences based on real-time weather data\n",
        "        temperature = destination_weather['main']['temp']\n",
        "        humidity = destination_weather['main']['humidity']\n",
        "        wind_speed = destination_weather['wind']['speed']\n",
        "        wind_direction = destination_weather['wind'].get('deg', 0.0)  # Default to 0 if not available\n",
        "\n",
        "        reference_temperature = departure_weather['main']['temp']\n",
        "        reference_humidity = departure_weather['main']['humidity']\n",
        "        reference_wind_speed = departure_weather['wind']['speed']\n",
        "        reference_wind_direction = departure_weather['wind'].get('deg', 0.0)\n",
        "\n",
        "        # Create a DataFrame with the input data\n",
        "        data = pd.DataFrame({\n",
        "            'temp_difference': [temperature - reference_temperature],  # Calculate temperature difference\n",
        "            'humidity_difference': [humidity - reference_humidity],     # Calculate humidity difference\n",
        "            'wind_speed_difference': [wind_speed - reference_wind_speed],  # Calculate wind speed difference\n",
        "            'wind_direction_difference': [wind_direction - reference_wind_direction]  # Calculate wind direction difference\n",
        "        })\n",
        "\n",
        "        # Use the trained model to make predictions (1 for delay, 0 for no delay)\n",
        "        predicted_delay = model.predict(data)\n",
        "\n",
        "        return predicted_delay, departure_weather, destination_weather\n",
        "    else:\n",
        "        return None, None, None\n",
        "\n",
        "# User input for departure location, destination location, and date\n",
        "departure_name = input(\"Enter the departure location name (e.g., New York): \")\n",
        "destination_name = input(\"Enter the destination location name (e.g., Los Angeles): \")\n",
        "date = input(\"Enter the date (dd/mm/yyyy): \")\n",
        "\n",
        "# Make a prediction and get weather details\n",
        "predicted_delay, departure_weather, destination_weather = predict_flight_delay(departure_name, destination_name, date)\n",
        "\n",
        "if predicted_delay is not None:\n",
        "    print(f\"Predicted Flight Delay (1 for delay, 0 for no delay): {int(predicted_delay[0])}\")\n",
        "    if departure_weather and destination_weather:\n",
        "        print(\"Weather Details:\")\n",
        "        print(f\"Weather in {departure_name} on {date}:\")\n",
        "        print(f\"Temperature: {departure_weather['main']['temp']}°F\")\n",
        "        print(f\"Humidity: {departure_weather['main']['humidity']}%\")\n",
        "        print(f\"Wind Speed: {departure_weather['wind']['speed']} mph\")\n",
        "        print(f\"Wind Direction: {departure_weather['wind'].get('deg', 'N/A')}°\")\n",
        "\n",
        "        print(f\"Weather in {destination_name} on {date}:\")\n",
        "        print(f\"Temperature: {destination_weather['main']['temp']}°F\")\n",
        "        print(f\"Humidity: {destination_weather['main']['humidity']}%\")\n",
        "        print(f\"Wind Speed: {destination_weather['wind']['speed']} mph\")\n",
        "        print(f\"Wind Direction: {destination_weather['wind'].get('deg', 'N/A')}°\")\n",
        "    else:\n",
        "        print(\"Weather information not available for one or more locations.\")\n",
        "else:\n",
        "    print(\"Flight delay prediction not available due to missing weather data.\")\n"
      ],
      "metadata": {
        "colab": {
          "base_uri": "https://localhost:8080/"
        },
        "id": "7ra9B9no36AB",
        "outputId": "ca3a7038-1eb6-4896-aa5b-7939430e67f9"
      },
      "execution_count": null,
      "outputs": [
        {
          "output_type": "stream",
          "name": "stdout",
          "text": [
            "Enter the departure location name (e.g., New York): New York\n",
            "Enter the destination location name (e.g., Los Angeles): Los Angeles\n",
            "Enter the date (dd/mm/yyyy): 15/10/2023\n",
            "Predicted Flight Delay (1 for delay, 0 for no delay): 0\n",
            "Weather Details:\n",
            "Weather in New York on 15/10/2023:\n",
            "Temperature: 50.67°F\n",
            "Humidity: 90%\n",
            "Wind Speed: 10.36 mph\n",
            "Wind Direction: 42°\n",
            "Weather in Los Angeles on 15/10/2023:\n",
            "Temperature: 74.73°F\n",
            "Humidity: 42%\n",
            "Wind Speed: 9.42 mph\n",
            "Wind Direction: 241°\n"
          ]
        }
      ]
    },
    {
      "cell_type": "code",
      "source": [
        "import matplotlib.pyplot as plt\n",
        "\n",
        "# Ensure you have fetched 'departure_weather' and 'destination_weather' before this point\n",
        "\n",
        "if departure_weather and destination_weather:\n",
        "    fig, (ax1, ax2) = plt.subplots(1, 2, figsize=(12, 5))\n",
        "\n",
        "    # Weather details for departure location\n",
        "    departure_temperature = departure_weather['main']['temp']\n",
        "    departure_humidity = departure_weather['main']['humidity']\n",
        "    departure_wind_speed = departure_weather['wind']['speed']\n",
        "    departure_wind_direction = departure_weather['wind'].get('deg', 'N/A')\n",
        "\n",
        "    # Weather details for destination location\n",
        "    destination_temperature = destination_weather['main']['temp']\n",
        "    destination_humidity = destination_weather['main']['humidity']\n",
        "    destination_wind_speed = destination_weather['wind']['speed']\n",
        "    destination_wind_direction = destination_weather['wind'].get('deg', 'N/A')\n",
        "\n",
        "    # Labels for the locations\n",
        "    labels = ['Temperature', 'Humidity', 'Wind Speed', 'Wind Direction']\n",
        "\n",
        "    # Values for the departure and destination locations\n",
        "    departure_values = [departure_temperature, departure_humidity, departure_wind_speed, departure_wind_direction]\n",
        "    destination_values = [destination_temperature, destination_humidity, destination_wind_speed, destination_wind_direction]\n",
        "\n",
        "    x = range(len(labels))\n",
        "\n",
        "    # Plotting the weather details\n",
        "    ax1.bar(x, departure_values, width=0.4, label='Departure', color='b', align='center')\n",
        "    ax2.bar(x, destination_values, width=0.4, label='Destination', color='g', align='edge')\n",
        "\n",
        "    ax1.set_xticks(x)\n",
        "    ax1.set_xticklabels(labels)\n",
        "    ax2.set_xticks(x)\n",
        "    ax2.set_xticklabels(labels)\n",
        "\n",
        "    ax1.set_title('Weather Details - Departure')\n",
        "    ax2.set_title('Weather Details - Destination')\n",
        "\n",
        "    plt.suptitle(f'Comparison of Real-time Weather on {date}')\n",
        "    plt.tight_layout()\n",
        "    plt.show()\n",
        "else:\n",
        "    print(\"Weather information not available for one or more locations.\")\n"
      ],
      "metadata": {
        "colab": {
          "base_uri": "https://localhost:8080/",
          "height": 512
        },
        "id": "BKr6aEnN4oqX",
        "outputId": "d6c78b72-7748-459c-bf46-a75df3f4ce72"
      },
      "execution_count": null,
      "outputs": [
        {
          "output_type": "display_data",
          "data": {
            "text/plain": [
              "<Figure size 1200x500 with 2 Axes>"
            ],
            "image/png": "[encoded data removed]"
          },
          "metadata": {}
        }
      ]
    }
  ]
}